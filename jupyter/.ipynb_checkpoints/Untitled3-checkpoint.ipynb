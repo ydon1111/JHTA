{
 "cells": [
  {
   "cell_type": "code",
   "execution_count": 4,
   "metadata": {},
   "outputs": [],
   "source": [
    "import konlpy"
   ]
  },
  {
   "cell_type": "code",
   "execution_count": 5,
   "metadata": {},
   "outputs": [],
   "source": [
    "from konlpy.tag import Hannanum\n",
    "hanananum = Hannanum()"
   ]
  },
  {
   "cell_type": "code",
   "execution_count": 6,
   "metadata": {},
   "outputs": [
    {
     "data": {
      "text/plain": [
       "<bound method Hannanum.pos of <konlpy.tag._hannanum.Hannanum object at 0x000002C06B087BB0>>"
      ]
     },
     "execution_count": 6,
     "metadata": {},
     "output_type": "execute_result"
    }
   ],
   "source": [
    "hanananum.analyze \n",
    "hanananum.morphs #형태소 분석\n",
    "hanananum.nouns #명사 분석\n",
    "hanananum.pos #형태소 분석"
   ]
  },
  {
   "cell_type": "code",
   "execution_count": 7,
   "metadata": {},
   "outputs": [
    {
     "name": "stdout",
     "output_type": "stream",
     "text": [
      "[[[('오늘', 'ncn'), ('먹', 'ncn'), ('은', 'jxc')]], [[('스테이크덮밥', 'ncn'), ('은', 'jxc')], [('스테이크덮밥은', 'ncn')], [('스테이크덮밥', 'nqq'), ('은', 'jxc')], [('스테이크덮밥은', 'nqq')]], [[('스테이크', 'ncn'), ('는', 'jxc')], [('스테이크는', 'ncn')], [('스테이크', 'nqq'), ('는', 'jxc')], [('스테이크는', 'nqq')]], [[('없', 'paa'), ('었', 'ep'), ('다', 'ef')]], [[('.', 'sf')], [('.', 'sy')]]]\n"
     ]
    }
   ],
   "source": [
    "print(hanananum.analyze(u'오늘먹은 스테이크덮밥은  스테이크는 없었다.'))"
   ]
  },
  {
   "cell_type": "code",
   "execution_count": 8,
   "metadata": {},
   "outputs": [
    {
     "name": "stdout",
     "output_type": "stream",
     "text": [
      "['다음', '에는', '봉골레', '파스타', '먹', '어야지', '낚시', '이', '군', '알', 'ㄹ', '바']\n"
     ]
    }
   ],
   "source": [
    "print(hanananum.morphs(u'다음에는 봉골레 파스타 먹어야지 낚시군 알바'))"
   ]
  },
  {
   "cell_type": "code",
   "execution_count": 11,
   "metadata": {},
   "outputs": [
    {
     "name": "stdout",
     "output_type": "stream",
     "text": [
      "['경찰청', '창살', '쇠철창살', '시청', '창살']\n"
     ]
    }
   ],
   "source": [
    "print(hanananum.nouns(u'경찰청 창살 쇠철창살과 시청의 창살'))"
   ]
  },
  {
   "cell_type": "code",
   "execution_count": 12,
   "metadata": {},
   "outputs": [
    {
     "name": "stdout",
     "output_type": "stream",
     "text": [
      "[('오늘', 'N'), ('은', 'J'), ('즐겁', 'P'), ('은', 'E'), ('금요일', 'N'), ('일', 'P'), ('ㅂ니다', 'E'), ('.', 'S'), ('할로윈', 'N'), ('이브', 'N')]\n"
     ]
    }
   ],
   "source": [
    "print(hanananum.pos(u'오늘은 즐거운 금요일 입니다. 할로윈 이브'))"
   ]
  },
  {
   "cell_type": "code",
   "execution_count": 20,
   "metadata": {},
   "outputs": [],
   "source": [
    "from wordcloud import WordCloud\n",
    "import matplotlib.pyplot as plt\n",
    "%matplotlib inline"
   ]
  },
  {
   "cell_type": "code",
   "execution_count": 14,
   "metadata": {},
   "outputs": [],
   "source": [
    "text = '스파게티 맛집 봉골레 맛없는 스테이크 덮밥 먹었지 커피 커피 커피 커피 강아지 '"
   ]
  },
  {
   "cell_type": "code",
   "execution_count": 25,
   "metadata": {},
   "outputs": [
    {
     "data": {
      "image/png": "[encoded data removed]",
      "text/plain": [
       "<Figure size 432x288 with 1 Axes>"
      ]
     },
     "metadata": {
      "needs_background": "light"
     },
     "output_type": "display_data"
    }
   ],
   "source": [
    "wordcloud = WordCloud(max_font_size = 100 ,font_path = 'c:\\\\windows\\\\Fonts\\\\malgun.ttf').generate(text)\n",
    "\n",
    "fig = plt.figure()\n",
    "\n",
    "plt.imshow(wordcloud, interpolation = 'nearest')\n",
    "plt.axis('off')\n",
    "plt.savefig('./wordcloud1.svg')"
   ]
  },
  {
   "cell_type": "code",
   "execution_count": null,
   "metadata": {},
   "outputs": [],
   "source": []
  },
  {
   "cell_type": "code",
   "execution_count": null,
   "metadata": {},
   "outputs": [],
   "source": []
  },
  {
   "cell_type": "code",
   "execution_count": null,
   "metadata": {},
   "outputs": [],
   "source": []
  },
  {
   "cell_type": "code",
   "execution_count": null,
   "metadata": {},
   "outputs": [],
   "source": []
  },
  {
   "cell_type": "code",
   "execution_count": null,
   "metadata": {},
   "outputs": [],
   "source": []
  },
  {
   "cell_type": "code",
   "execution_count": null,
   "metadata": {},
   "outputs": [],
   "source": []
  },
  {
   "cell_type": "code",
   "execution_count": null,
   "metadata": {},
   "outputs": [],
   "source": []
  },
  {
   "cell_type": "code",
   "execution_count": null,
   "metadata": {},
   "outputs": [],
   "source": []
  }
 ],
 "metadata": {
  "kernelspec": {
   "display_name": "Python 3",
   "language": "python",
   "name": "python3"
  },
  "language_info": {
   "codemirror_mode": {
    "name": "ipython",
    "version": 3
   },
   "file_extension": ".py",
   "mimetype": "text/x-python",
   "name": "python",
   "nbconvert_exporter": "python",
   "pygments_lexer": "ipython3",
   "version": "3.8.5"
  }
 },
 "nbformat": 4,
 "nbformat_minor": 4
}
