{
 "cells": [
  {
   "cell_type": "code",
   "execution_count": null,
   "metadata": {},
   "outputs": [],
   "source": [
    "import numpy as np \n",
    "import pandas as pd\n",
    "import matplotlib.pyplot as plt \n"
   ]
  },
  {
   "cell_type": "code",
   "execution_count": null,
   "metadata": {},
   "outputs": [],
   "source": [
    "plt.rc('font', family = 'Malgun Gothic')\n",
    "#폰트 설정 "
   ]
  },
  {
   "cell_type": "code",
   "execution_count": null,
   "metadata": {},
   "outputs": [],
   "source": [
    "x=np.arange(10)\n",
    "y=np.sin(x)\n",
    "print(x,y)"
   ]
  },
  {
   "cell_type": "code",
   "execution_count": null,
   "metadata": {},
   "outputs": [],
   "source": [
    "plt.plot(x,y)\n",
    "plt.title('맑은 고딕체')\n",
    "plt.show()\n",
    "\n"
   ]
  },
  {
   "cell_type": "code",
   "execution_count": null,
   "metadata": {},
   "outputs": [],
   "source": [
    "#랜덤 숫자 고정 \n",
    "np.random.seed(999)\n",
    "#랜덤 숫자 출력 \n",
    "x = np.random.randn(100)\n",
    "y = np.random.randn(100)\n",
    "\n",
    "plt.plot(x,y,'go',ms=3)"
   ]
  },
  {
   "cell_type": "code",
   "execution_count": null,
   "metadata": {},
   "outputs": [],
   "source": [
    "from IPython.display import Image\n",
    "Image('cmap.png')"
   ]
  },
  {
   "cell_type": "code",
   "execution_count": null,
   "metadata": {},
   "outputs": [],
   "source": [
    "np.random.seed(999)\n",
    "x=np.random.randn(100)\n",
    "y=np.random.randn(100)\n",
    "c=np.random.randn(100)\n",
    "s=np.random.rand(100)*400\n",
    "#산점도 출력 \n",
    "plt.scatter(x,y,c=c,s=s,alpha=0.2 ,cmap ='cividis')\n",
    "#옆에 컬러바 출력 \n",
    "plt.colorbar()\n",
    "\n",
    "plt.savefig('scatter.png')"
   ]
  },
  {
   "cell_type": "code",
   "execution_count": null,
   "metadata": {},
   "outputs": [],
   "source": [
    "# import pandas.io.data as web\n",
    "import pandas_datareader as web"
   ]
  },
  {
   "cell_type": "code",
   "execution_count": null,
   "metadata": {},
   "outputs": [],
   "source": [
    "#네이버에서 주식 데이터 가져옴 \n",
    "ncsoft = web.DataReader('036570','naver',start ='01/01/2020',end='10/15/2020')\n",
    "\n",
    "ncsoft"
   ]
  },
  {
   "cell_type": "code",
   "execution_count": null,
   "metadata": {},
   "outputs": [],
   "source": [
    "# iris 데이터 \n",
    "import seaborn as sns \n"
   ]
  },
  {
   "cell_type": "code",
   "execution_count": null,
   "metadata": {},
   "outputs": [],
   "source": [
    "iris = sns.load_dataset('iris')\n",
    "iris.info()"
   ]
  },
  {
   "cell_type": "code",
   "execution_count": null,
   "metadata": {},
   "outputs": [],
   "source": [
    "type(iris.species)"
   ]
  },
  {
   "cell_type": "code",
   "execution_count": null,
   "metadata": {},
   "outputs": [],
   "source": [
    "iris.head(10)"
   ]
  },
  {
   "cell_type": "code",
   "execution_count": null,
   "metadata": {},
   "outputs": [],
   "source": [
    "iris['species2']=pd.Categorical(iris.species)\n",
    "iris.head()"
   ]
  },
  {
   "cell_type": "code",
   "execution_count": null,
   "metadata": {},
   "outputs": [],
   "source": [
    "iris.info()"
   ]
  },
  {
   "cell_type": "code",
   "execution_count": null,
   "metadata": {},
   "outputs": [],
   "source": [
    "# 꽃받침의 길이와 너비의 산점도\n",
    "# x = iris['sepal_length']\n",
    "# y = iris['sepal_width']\n",
    "# c=np.random.randn(150)\n",
    "# s=np.random.rand(100)*500\n",
    "\n",
    "# plt.scatter(x,y,s=s,c=c,alpha=0.2, cmap='cividis')\n",
    "\n",
    "\n",
    "plt.scatter(iris.sepal_length, iris.sepal_width,\n",
    "           c=iris.species2.cat.codes,alpha=0.3,cmap='cividis')\n",
    "\n",
    "\n",
    "\n",
    "plt.title('붓꽃 : 곷받침의 길이와 꽃받침의 너비 산점도 ')\n",
    "plt.xlim(iris.sepal_length.min(),iris.sepal_length.max())\n",
    "plt.xlabel('꽃받침의 길이')\n",
    "plt.ylim(iris.sepal_width.min(),iris.sepal_width.max())\n",
    "plt.ylabel('꽃받침의 너비')\n",
    "plt.legend()\n",
    "plt.savefig('iris.png')\n"
   ]
  },
  {
   "cell_type": "code",
   "execution_count": null,
   "metadata": {},
   "outputs": [],
   "source": [
    "iris.species2.cat.codes"
   ]
  },
  {
   "cell_type": "code",
   "execution_count": null,
   "metadata": {},
   "outputs": [],
   "source": [
    "# 꽃의 종류 \n",
    "species = iris.species.unique()\n",
    "species"
   ]
  },
  {
   "cell_type": "code",
   "execution_count": null,
   "metadata": {},
   "outputs": [],
   "source": [
    "# setosa 만 산점도 찍기\n",
    "\n",
    "x = iris.loc[iris['species'] == 'setosa','sepal_length']\n",
    "y = iris.loc[iris['species']=='setosa','sepal_width']\n"
   ]
  },
  {
   "cell_type": "code",
   "execution_count": null,
   "metadata": {},
   "outputs": [],
   "source": [
    "plt.scatter(x,y,alpha=0.3,label = 'setosa',cmap='cividis')\n",
    "plt.legend()"
   ]
  },
  {
   "cell_type": "code",
   "execution_count": null,
   "metadata": {},
   "outputs": [],
   "source": [
    "x=iris.loc[iris['species']=='versicolor','sepal_length']\n",
    "y=iris.loc[iris['species']=='versicolor','sepal_width']"
   ]
  },
  {
   "cell_type": "code",
   "execution_count": null,
   "metadata": {},
   "outputs": [],
   "source": [
    "plt.scatter(x,y,alpha=0.3 , label='versicolor',cmap='cividis')\n",
    "#산점도 \n",
    "plt.legend()"
   ]
  },
  {
   "cell_type": "code",
   "execution_count": null,
   "metadata": {},
   "outputs": [],
   "source": [
    "x=iris.loc[iris['species']=='virginica','sepal_length']\n",
    "\n",
    "y=iris.loc[iris['species']=='virginica','sepal_width']\n"
   ]
  },
  {
   "cell_type": "code",
   "execution_count": null,
   "metadata": {},
   "outputs": [],
   "source": [
    "plt.scatter(x,y,alpha=0.3,label='virginica',cmap='cividis')\n",
    "\n",
    "plt.legend()"
   ]
  },
  {
   "cell_type": "code",
   "execution_count": null,
   "metadata": {},
   "outputs": [],
   "source": [
    "\n",
    "for s in species:\n",
    "    x = iris.loc[iris['species']==s,'sepal_length']\n",
    "    y = iris.loc[iris['species']==s,'sepal_width']\n",
    "    plt.scatter(x,y,label=s, alpha=0.3,cmap ='cividis')\n",
    "    plt.title('붓꽃 : 곷받침의 길이와 꽃받침의 너비 산점도 ')\n",
    "plt.xlim(iris.sepal_length.min(),iris.sepal_length.max())\n",
    "plt.xlabel('꽃받침의 길이')\n",
    "plt.ylim(iris.sepal_width.min(),iris.sepal_width.max())\n",
    "plt.ylabel('꽃받침의 너비')\n",
    "plt.legend()\n",
    "plt.savefig('iris2.png')"
   ]
  },
  {
   "cell_type": "code",
   "execution_count": null,
   "metadata": {},
   "outputs": [],
   "source": [
    "# 히스토그램\n",
    "np.random.seed(999)\n",
    "\n",
    "mu = 80\n",
    "sigma = 10 \n",
    "\n",
    "x= np.random.normal(mu,sigma,100)\n",
    "x\n",
    "plt.hist(x,rwidth=0.9, bins=16)\n"
   ]
  },
  {
   "cell_type": "code",
   "execution_count": null,
   "metadata": {},
   "outputs": [],
   "source": [
    "# 히스토그램\n",
    "np.random.seed(999)\n",
    "\n",
    "mu = 80\n",
    "sigma = 10 \n",
    "\n",
    "x= np.random.normal(mu,sigma,10000)\n",
    "x\n",
    "plt.hist(x,rwidth=0.9, bins=16)\n"
   ]
  },
  {
   "cell_type": "code",
   "execution_count": null,
   "metadata": {},
   "outputs": [],
   "source": [
    "# 갯수가 많을 수록 정규분포처럼 종모양을 띄는 것을 볼수 있다.\n"
   ]
  },
  {
   "cell_type": "code",
   "execution_count": null,
   "metadata": {},
   "outputs": [],
   "source": [
    "tips = sns.load_dataset('tips')\n",
    "tips.info()"
   ]
  },
  {
   "cell_type": "code",
   "execution_count": null,
   "metadata": {},
   "outputs": [],
   "source": [
    "type(tips.tip)"
   ]
  },
  {
   "cell_type": "code",
   "execution_count": null,
   "metadata": {},
   "outputs": [],
   "source": [
    "mu,sigma = tips.tip.mean(),tips.tip.std()\n",
    "mu,sigma"
   ]
  },
  {
   "cell_type": "code",
   "execution_count": null,
   "metadata": {},
   "outputs": [],
   "source": [
    "\n",
    "x = np.linspace(tips.tip.min(),tips.tip.max(),20)\n",
    "x"
   ]
  },
  {
   "cell_type": "code",
   "execution_count": null,
   "metadata": {},
   "outputs": [],
   "source": []
  },
  {
   "cell_type": "code",
   "execution_count": null,
   "metadata": {},
   "outputs": [],
   "source": [
    "import scipy as sp"
   ]
  },
  {
   "cell_type": "code",
   "execution_count": null,
   "metadata": {},
   "outputs": [],
   "source": [
    "y = sp.stats.norm(mu,sigma).pdf(x)\n",
    "y"
   ]
  },
  {
   "cell_type": "code",
   "execution_count": null,
   "metadata": {},
   "outputs": [],
   "source": [
    "plt.plot(x,y)"
   ]
  },
  {
   "cell_type": "code",
   "execution_count": null,
   "metadata": {},
   "outputs": [],
   "source": [
    "plt.hist(x=tips.tip ,bins=20,density = True )\n",
    "mu,sigma = tips.tip.mean(),tips.tip.std()\n",
    "x = np.linspace(tips.tip.min(),tips.tip.max(),20)\n",
    "y = sp.stats.norm(mu,sigma).pdf(x)\n",
    "plt.title(\"팁의 밀도와 정규분포\")\n",
    "plt.xlabel('팁')\n",
    "plt.ylabel('밀도')\n",
    "plt.plot(x,y)"
   ]
  },
  {
   "cell_type": "code",
   "execution_count": null,
   "metadata": {},
   "outputs": [],
   "source": [
    "#박스 플롯 ,사분위수 "
   ]
  },
  {
   "cell_type": "code",
   "execution_count": null,
   "metadata": {},
   "outputs": [],
   "source": [
    "tips.loc[tips.sex=='Male',['sex','tip']].head()"
   ]
  },
  {
   "cell_type": "code",
   "execution_count": null,
   "metadata": {},
   "outputs": [],
   "source": [
    "tips.loc[tips.sex=='Male',['sex','tip']].describe()"
   ]
  },
  {
   "cell_type": "code",
   "execution_count": null,
   "metadata": {},
   "outputs": [],
   "source": [
    "tips.loc[tips.sex=='Male',['sex','tip']].describe().round(2)"
   ]
  },
  {
   "cell_type": "code",
   "execution_count": null,
   "metadata": {},
   "outputs": [],
   "source": [
    "labels=[]\n",
    "tip_list=[]\n"
   ]
  },
  {
   "cell_type": "code",
   "execution_count": null,
   "metadata": {},
   "outputs": [],
   "source": [
    "group,data = tips.groupby(\"sex\")\n"
   ]
  },
  {
   "cell_type": "code",
   "execution_count": null,
   "metadata": {},
   "outputs": [],
   "source": [
    "for group,data in tips.groupby(\"sex\"):\n",
    "    labels.append(group)\n",
    "    tip_list.append(data['tip'].tolist())\n",
    "    \n",
    "    \n",
    "labels\n"
   ]
  },
  {
   "cell_type": "code",
   "execution_count": null,
   "metadata": {},
   "outputs": [],
   "source": [
    "tip_list"
   ]
  },
  {
   "cell_type": "code",
   "execution_count": null,
   "metadata": {},
   "outputs": [],
   "source": [
    "plt.boxplot(tip_list,labels= labels)\n",
    "plt.title('팁')\n",
    "plt.xlabel('성별')\n",
    "plt.ylabel('팁')\n",
    "#Inter Quantile Range(IQR) : Q3 - Q1\n",
    "# | fense Q1- 1.5*IQR    Q3 +1.5*IQR"
   ]
  },
  {
   "cell_type": "code",
   "execution_count": null,
   "metadata": {},
   "outputs": [],
   "source": [
    "#박스플롯 : 이상치 발견하기 좋은 도구 \n"
   ]
  },
  {
   "cell_type": "code",
   "execution_count": null,
   "metadata": {},
   "outputs": [],
   "source": [
    "from sklearn.datasets import load_digits\n"
   ]
  },
  {
   "cell_type": "code",
   "execution_count": null,
   "metadata": {},
   "outputs": [],
   "source": [
    "#손글씨 데이터 \n",
    "digits = load_digits()"
   ]
  },
  {
   "cell_type": "code",
   "execution_count": null,
   "metadata": {},
   "outputs": [],
   "source": [
    "digits.keys()"
   ]
  },
  {
   "cell_type": "code",
   "execution_count": null,
   "metadata": {},
   "outputs": [],
   "source": [
    "digits.images[0]"
   ]
  },
  {
   "cell_type": "code",
   "execution_count": null,
   "metadata": {},
   "outputs": [],
   "source": [
    "#이미지 정보는 8*8 =64 구성 픽셀의 밝기 \n",
    "#숫자 크기가 클수록 밝은 색 "
   ]
  },
  {
   "cell_type": "code",
   "execution_count": null,
   "metadata": {},
   "outputs": [],
   "source": [
    "plt.imshow(digits.images[0],cmap='binary')"
   ]
  },
  {
   "cell_type": "code",
   "execution_count": null,
   "metadata": {},
   "outputs": [],
   "source": [
    "plt.imshow(digits.images[1],cmap='binary')"
   ]
  },
  {
   "cell_type": "code",
   "execution_count": null,
   "metadata": {},
   "outputs": [],
   "source": [
    "plt.imshow(digits.images[8],cmap='binary')"
   ]
  },
  {
   "cell_type": "code",
   "execution_count": null,
   "metadata": {},
   "outputs": [],
   "source": [
    "fig, ax = plt.subplots(1,10)"
   ]
  },
  {
   "cell_type": "code",
   "execution_count": null,
   "metadata": {},
   "outputs": [],
   "source": [
    "fig, ax = plt.subplots(10,10)\n",
    "for i , x in enumerate(ax.flat):\n",
    "    x.imshow(digits.images[i],cmap='binary')"
   ]
  },
  {
   "cell_type": "code",
   "execution_count": null,
   "metadata": {},
   "outputs": [],
   "source": [
    "# mpg in r \n",
    "#R에서 mpg 데이터를 mpg.csv 로 변환\n",
    "\n",
    "df = pd.read_csv('mpg.csv')\n",
    "df"
   ]
  },
  {
   "cell_type": "code",
   "execution_count": null,
   "metadata": {},
   "outputs": [],
   "source": [
    "df.columns"
   ]
  },
  {
   "cell_type": "code",
   "execution_count": null,
   "metadata": {},
   "outputs": [],
   "source": [
    "df = df.drop('Unnamed: 0', axis=1)\n",
    "df"
   ]
  },
  {
   "cell_type": "markdown",
   "metadata": {},
   "source": [
    "- manufacture : 제조회사\n",
    "- model : 자동차 모델명\n",
    "- displ : 배기량\n",
    "- year : 생산년도\n",
    "- cyl : 실린더 갯수\n",
    "- trans : 변속기 종류\n",
    "- drv : 구동방식\n",
    "- cty : 도시연비\n",
    "- hwy : 고속도로 연비\n",
    "- fl : 연로종류\n",
    "- class : 자동차 종류 "
   ]
  },
  {
   "cell_type": "code",
   "execution_count": null,
   "metadata": {},
   "outputs": [],
   "source": [
    "df.info()"
   ]
  },
  {
   "cell_type": "code",
   "execution_count": null,
   "metadata": {},
   "outputs": [],
   "source": [
    "df.describe()"
   ]
  },
  {
   "cell_type": "code",
   "execution_count": null,
   "metadata": {},
   "outputs": [],
   "source": [
    "df.describe(include='all')"
   ]
  },
  {
   "cell_type": "code",
   "execution_count": null,
   "metadata": {},
   "outputs": [],
   "source": [
    "df['mpg'] = df['cty']+df['hwy']"
   ]
  },
  {
   "cell_type": "code",
   "execution_count": null,
   "metadata": {},
   "outputs": [],
   "source": [
    "df"
   ]
  },
  {
   "cell_type": "code",
   "execution_count": null,
   "metadata": {},
   "outputs": [],
   "source": [
    "df.model.value_counts()"
   ]
  },
  {
   "cell_type": "code",
   "execution_count": null,
   "metadata": {},
   "outputs": [],
   "source": [
    "#고속도로 평균연비 "
   ]
  },
  {
   "cell_type": "code",
   "execution_count": null,
   "metadata": {},
   "outputs": [],
   "source": [
    "df.hwy.mean()"
   ]
  },
  {
   "cell_type": "code",
   "execution_count": null,
   "metadata": {},
   "outputs": [],
   "source": [
    "df.hwy.min()"
   ]
  },
  {
   "cell_type": "code",
   "execution_count": null,
   "metadata": {},
   "outputs": [],
   "source": [
    "df.hwy.max()"
   ]
  },
  {
   "cell_type": "code",
   "execution_count": null,
   "metadata": {},
   "outputs": [],
   "source": [
    "df.hwy.mean()"
   ]
  },
  {
   "cell_type": "code",
   "execution_count": null,
   "metadata": {},
   "outputs": [],
   "source": [
    "df.hwy.std()"
   ]
  },
  {
   "cell_type": "code",
   "execution_count": null,
   "metadata": {},
   "outputs": [],
   "source": [
    "df.hwy.median()"
   ]
  },
  {
   "cell_type": "code",
   "execution_count": null,
   "metadata": {},
   "outputs": [],
   "source": [
    "#상관관계\n",
    "#상관계수 \n",
    "\n",
    "df.corr()"
   ]
  },
  {
   "cell_type": "code",
   "execution_count": null,
   "metadata": {},
   "outputs": [],
   "source": [
    "#특정열만 : 배기량과 실린더 갯수 \n",
    "\n",
    "df[['cyl','displ']].corr()"
   ]
  },
  {
   "cell_type": "code",
   "execution_count": null,
   "metadata": {},
   "outputs": [],
   "source": [
    "df"
   ]
  },
  {
   "cell_type": "code",
   "execution_count": null,
   "metadata": {},
   "outputs": [],
   "source": [
    "#내장 그래픽\n",
    "df.plot(kind='box',subplots=True)"
   ]
  },
  {
   "cell_type": "code",
   "execution_count": null,
   "metadata": {},
   "outputs": [],
   "source": [
    "df[['displ','cyl','cty','hwy']].plot(kind='box')"
   ]
  },
  {
   "cell_type": "code",
   "execution_count": null,
   "metadata": {},
   "outputs": [],
   "source": [
    "df[['displ','cyl','cty','hwy']].plot(kind='line')\n",
    "\n",
    "# line : 선그래프\n",
    "# bar : 수직 막대 그래프\n",
    "# barh : 수평 막대 그래프\n",
    "# hist : 히스토그램\n",
    "# box : box plot\n",
    "# kde : 커널 밀도 함수\n",
    "# area : 면적그래프\n",
    "# pie : 파이그래프\n",
    "# scatter : 산점도 그래프\n",
    "# hexbin : 고밀도 산점도 그래프\n",
    "\n"
   ]
  },
  {
   "cell_type": "code",
   "execution_count": null,
   "metadata": {},
   "outputs": [],
   "source": [
    "df2 = df[['displ','cyl','cty','hwy']]\n",
    "df2"
   ]
  },
  {
   "cell_type": "code",
   "execution_count": null,
   "metadata": {},
   "outputs": [],
   "source": [
    "df2.plot(kind='box')"
   ]
  },
  {
   "cell_type": "code",
   "execution_count": null,
   "metadata": {},
   "outputs": [],
   "source": [
    "#자료에 따라 그래프 그리기\n",
    "# 범주형 : 막대그래프\n",
    "# 수치형 : 히스토그램\n"
   ]
  },
  {
   "cell_type": "code",
   "execution_count": null,
   "metadata": {},
   "outputs": [],
   "source": [
    "Image('score.png')"
   ]
  },
  {
   "cell_type": "code",
   "execution_count": null,
   "metadata": {},
   "outputs": [],
   "source": [
    "data = [['A',5,10,10],['B',22,44,54],['C',13,26,80],['D',8,16,96],['F',2,4,100]]\n",
    "df = pd.DataFrame(data)\n",
    "\n"
   ]
  },
  {
   "cell_type": "code",
   "execution_count": null,
   "metadata": {},
   "outputs": [],
   "source": [
    "df.columns=['score','frequency','ratio','cratio']"
   ]
  },
  {
   "cell_type": "code",
   "execution_count": null,
   "metadata": {},
   "outputs": [],
   "source": [
    "df"
   ]
  },
  {
   "cell_type": "code",
   "execution_count": null,
   "metadata": {},
   "outputs": [],
   "source": [
    "#범주형 변수가 1개 : barchart , pie \n",
    "\n",
    "df= df.set_index('score')\n",
    "df"
   ]
  },
  {
   "cell_type": "code",
   "execution_count": null,
   "metadata": {},
   "outputs": [],
   "source": [
    "df['frequency'].plot(kind='bar')"
   ]
  },
  {
   "cell_type": "code",
   "execution_count": null,
   "metadata": {},
   "outputs": [],
   "source": [
    "# 비율로 bar 차트 ?\n",
    "df['ratio'].plot(kind='bar')"
   ]
  },
  {
   "cell_type": "code",
   "execution_count": null,
   "metadata": {},
   "outputs": [],
   "source": [
    "df['cratio'].plot(kind='bar')"
   ]
  },
  {
   "cell_type": "code",
   "execution_count": null,
   "metadata": {},
   "outputs": [],
   "source": [
    "df['frequency'].plot(kind='pie')"
   ]
  },
  {
   "cell_type": "code",
   "execution_count": null,
   "metadata": {},
   "outputs": [],
   "source": [
    "pre = pd.read_csv('pre.csv')\n",
    "pre.head()\n",
    "#비타민과 감기의 연관성\n",
    "#1:비타민 ,2:placebo\n",
    "#cold : 1 감기걸림 ,2 안걸림 \n",
    "\n"
   ]
  },
  {
   "cell_type": "code",
   "execution_count": null,
   "metadata": {},
   "outputs": [],
   "source": [
    "pre.corr()"
   ]
  },
  {
   "cell_type": "code",
   "execution_count": null,
   "metadata": {},
   "outputs": [],
   "source": [
    "df2 = pd.crosstab(pre.treat,columns=pre.cold)\n",
    "df2"
   ]
  },
  {
   "cell_type": "code",
   "execution_count": null,
   "metadata": {},
   "outputs": [],
   "source": [
    "df2.columns = ['cold','nocold']"
   ]
  },
  {
   "cell_type": "code",
   "execution_count": null,
   "metadata": {},
   "outputs": [],
   "source": [
    "df2.index =['vitamin','placebo']\n",
    "df2"
   ]
  },
  {
   "cell_type": "code",
   "execution_count": null,
   "metadata": {},
   "outputs": [],
   "source": [
    "df2.ration()"
   ]
  },
  {
   "cell_type": "code",
   "execution_count": null,
   "metadata": {},
   "outputs": [],
   "source": [
    "df2.plot(kind='bar',rot = True)"
   ]
  },
  {
   "cell_type": "code",
   "execution_count": null,
   "metadata": {},
   "outputs": [],
   "source": [
    "import matplotlib as mpl\n",
    "import matplotlib.pyplot as plt"
   ]
  },
  {
   "cell_type": "code",
   "execution_count": null,
   "metadata": {},
   "outputs": [],
   "source": [
    "plt.style.available"
   ]
  },
  {
   "cell_type": "code",
   "execution_count": null,
   "metadata": {},
   "outputs": [],
   "source": [
    "plt.style.use('fivethirtyeight')"
   ]
  },
  {
   "cell_type": "code",
   "execution_count": null,
   "metadata": {},
   "outputs": [],
   "source": [
    "plt.bar(x=df.index , height =df['frequency'],data =df )"
   ]
  },
  {
   "cell_type": "code",
   "execution_count": null,
   "metadata": {},
   "outputs": [],
   "source": [
    "df['frequency'].plot(kind='pie')"
   ]
  },
  {
   "cell_type": "code",
   "execution_count": null,
   "metadata": {},
   "outputs": [],
   "source": [
    "fig1 , ax1 = plt.subplots()\n",
    "explode=(0,0.5,0,0,0)\n",
    "ax1.pie(df['frequency'], explode = explode,labels =df.index ,autopct='%1.1f%%',shadow =True ,startangle=90)\n",
    "plt.show()\n"
   ]
  },
  {
   "cell_type": "code",
   "execution_count": null,
   "metadata": {},
   "outputs": [],
   "source": [
    "#일변량 수치형"
   ]
  },
  {
   "cell_type": "code",
   "execution_count": null,
   "metadata": {},
   "outputs": [],
   "source": [
    "wgt = pd.read_csv('wgt.csv')\n",
    "wgt"
   ]
  },
  {
   "cell_type": "code",
   "execution_count": null,
   "metadata": {},
   "outputs": [],
   "source": [
    "wgt['weight'].hist(bins=30)"
   ]
  },
  {
   "cell_type": "code",
   "execution_count": null,
   "metadata": {},
   "outputs": [],
   "source": [
    "wgt['weight'].plot(kind='box')"
   ]
  },
  {
   "cell_type": "code",
   "execution_count": null,
   "metadata": {},
   "outputs": [],
   "source": [
    "# 몸무게로 boxplot ?\n",
    "fig1,ax1 =plt.subplots()\n",
    "ax1.boxplot(wgt['weight'])"
   ]
  },
  {
   "cell_type": "code",
   "execution_count": null,
   "metadata": {},
   "outputs": [],
   "source": [
    "import seaborn as sns "
   ]
  },
  {
   "cell_type": "code",
   "execution_count": null,
   "metadata": {},
   "outputs": [],
   "source": [
    "df = sns.load_dataset('iris')\n",
    "df"
   ]
  },
  {
   "cell_type": "code",
   "execution_count": null,
   "metadata": {},
   "outputs": [],
   "source": [
    "sns.boxplot(x=df['species'],y=df['sepal_length'],palette='Set3')"
   ]
  },
  {
   "cell_type": "code",
   "execution_count": null,
   "metadata": {},
   "outputs": [],
   "source": [
    "sns.set_style('darkgrid')"
   ]
  },
  {
   "cell_type": "code",
   "execution_count": null,
   "metadata": {},
   "outputs": [],
   "source": [
    "titanic = sns.load_dataset('titanic')\n",
    "\n",
    "fig = plt.figure(figsize=(15,5))\n",
    "ax1 = fig.add_subplot(1,2,1)\n",
    "ax2 = fig.add_subplot(1,2,2)\n",
    "\n",
    "sns.regplot(x='age',y='fare',data=titanic ,ax=ax1)\n",
    "sns.regplot(x='age',y='fare',data=titanic ,ax=ax2,fit_reg =False)"
   ]
  },
  {
   "cell_type": "code",
   "execution_count": null,
   "metadata": {},
   "outputs": [],
   "source": [
    "titanic = sns.load_dataset('titanic')\n",
    "sns.set_style('whitegrid')\n",
    "fig = plt.figure(figsize =(15,5))\n",
    "\n",
    "ax1= fig.add_subplot(1,3,1)\n",
    "ax2= fig.add_subplot(1,3,2)\n",
    "ax3= fig.add_subplot(1,3,3)\n",
    "\n",
    "sns.distplot(titanic['fare'], ax= ax1)\n",
    "sns.distplot(titanic['fare'],hist =False,  ax= ax2)\n",
    "sns.distplot(titanic['fare'],kde =False,  ax= ax3)\n",
    "\n",
    "# 차트 제목 표시 \n",
    "ax1.set_title('titanic fare - hist')\n",
    "ax2.set_title('titanic fare - kde')\n",
    "ax3.set_title('titanic fare - hist')\n",
    "plt.show()"
   ]
  },
  {
   "cell_type": "code",
   "execution_count": null,
   "metadata": {},
   "outputs": [],
   "source": [
    "sns.set_style('darkgrid')"
   ]
  },
  {
   "cell_type": "code",
   "execution_count": null,
   "metadata": {},
   "outputs": [],
   "source": [
    "table = titanic.pivot_table(index= ['sex'], columns=['class'],aggfunc='size')\n"
   ]
  },
  {
   "cell_type": "code",
   "execution_count": null,
   "metadata": {},
   "outputs": [],
   "source": [
    "sns.heatmap(table,annot=True,fmt='d',cmap=\"PiYG\",linewidth=0.5 , cbar =True)\n",
    "plt.show()"
   ]
  },
  {
   "cell_type": "code",
   "execution_count": null,
   "metadata": {},
   "outputs": [],
   "source": [
    "sns.set_style('whitegrid')\n"
   ]
  },
  {
   "cell_type": "code",
   "execution_count": null,
   "metadata": {},
   "outputs": [],
   "source": [
    "fig=plt.figure(figsize=(15,5))\n",
    "\n",
    "ax1 = fig.add_subplot(1,2,1)\n",
    "ax2 = fig.add_subplot(1,2,2)\n",
    "\n",
    "#이산형 변수의 분포\n",
    "sns.stripplot(x='class',y='age', data = titanic , ax =ax1)\n",
    "sns.swarmplot(x='class',y='age',data= titanic, ax =ax2)\n",
    "\n",
    "ax1.set_title('strip plot')\n",
    "ax2.set_title('swarm plot')"
   ]
  },
  {
   "cell_type": "code",
   "execution_count": null,
   "metadata": {},
   "outputs": [],
   "source": [
    "fig = plt.figure(figsize = (15,5))\n",
    "\n",
    "ax1 = fig.add_subplot(1,3,1)\n",
    "ax2 = fig.add_subplot(1,3,2)\n",
    "ax3 = fig.add_subplot(1,3,3)\n",
    "\n",
    "\n",
    "sns.barplot(x='sex',y='survived', data =titanic ,ax= ax1)\n",
    "sns.barplot(x='sex',y='survived', hue='class',data=titanic, ax = ax2)\n",
    "sns.barplot(x='sex',y='survived',hue='class',dodge =False , data=titanic , ax =ax3)\n",
    "\n",
    "ax1.set_title(\"타이타닉 생존자 = 성별\")\n",
    "ax2.set_title(\"타이타닉 생존자 = 성별/클래스별\")\n",
    "ax3.set_title(\"타이타닉 생존자 = 성별/클래스별(stacked)\")\n",
    "plt.show()\n",
    "\n",
    "\n",
    "\n"
   ]
  },
  {
   "cell_type": "code",
   "execution_count": null,
   "metadata": {},
   "outputs": [],
   "source": [
    "fig = plt.figure(figsize = (15,5))\n",
    "\n",
    "ax1 = fig.add_subplot(2,2,1)\n",
    "ax2 = fig.add_subplot(2,2,2)\n",
    "ax3 = fig.add_subplot(2,2,3)\n",
    "ax4 = fig.add_subplot(2,2,4)\n",
    "\n",
    "sns.boxplot(x='alive',y='age',data =titanic, ax=ax1)\n",
    "sns.boxplot(x='alive',y='age', hue = 'sex',data =titanic, ax=ax2)\n",
    "\n",
    "sns.violinplot(x ='alive',y='age',data =titanic ,ax=ax3)\n",
    "sns.violinplot(x ='alive',y='age',hue='sex', data =titanic ,ax=ax4)\n",
    "\n",
    "plt.show()\n"
   ]
  },
  {
   "cell_type": "markdown",
   "metadata": {},
   "source": [
    "## 확률 밀도 함수 (PDF)\n",
    "- 주어진 변량이 정해진 구간안에 존재할 확률을 나타내는 함수 "
   ]
  },
  {
   "cell_type": "code",
   "execution_count": null,
   "metadata": {},
   "outputs": [],
   "source": [
    "#산점도\n",
    "j1 = sns.jointplot(x='fare',y='age',data=titanic)\n",
    "#회귀선\n",
    "j2 =sns.jointplot(x='fare',y='age',kind='reg',data=titanic)\n",
    "#육각그래프\n",
    "j3 = sns.jointplot(x='fare',y='age',kind='hex',data=titanic)\n",
    "#커널 밀집 그래프\n",
    "j4 =sns.jointplot(x='fare',y='age',kind='kde',data=titanic)\n",
    "\n",
    "j1.fig.suptitle('titanic fare - scatter',size=15)\n",
    "j2.fig.suptitle('titanic fare - reg',size=15)\n",
    "j3.fig.suptitle('titanic fare - hex',size=15)\n",
    "j4.fig.suptitle('titanic fare - kde',size=15)\n",
    "\n",
    "plt.show"
   ]
  },
  {
   "cell_type": "code",
   "execution_count": null,
   "metadata": {},
   "outputs": [],
   "source": [
    "import folium"
   ]
  },
  {
   "cell_type": "code",
   "execution_count": null,
   "metadata": {},
   "outputs": [],
   "source": [
    "#서울지도 만들기 \n",
    "seoul_map = folium.Map(location=[37.5649861,126.9772818],zoom_start=12)\n",
    "#지도를 html\n",
    "seoul_map.save('seoul.html')"
   ]
  },
  {
   "cell_type": "code",
   "execution_count": null,
   "metadata": {},
   "outputs": [],
   "source": []
  },
  {
   "cell_type": "code",
   "execution_count": null,
   "metadata": {},
   "outputs": [],
   "source": []
  },
  {
   "cell_type": "code",
   "execution_count": null,
   "metadata": {},
   "outputs": [],
   "source": []
  },
  {
   "cell_type": "code",
   "execution_count": null,
   "metadata": {},
   "outputs": [],
   "source": []
  }
 ],
 "metadata": {
  "kernelspec": {
   "display_name": "Python 3",
   "language": "python",
   "name": "python3"
  },
  "language_info": {
   "codemirror_mode": {
    "name": "ipython",
    "version": 3
   },
   "file_extension": ".py",
   "mimetype": "text/x-python",
   "name": "python",
   "nbconvert_exporter": "python",
   "pygments_lexer": "ipython3",
   "version": "3.5.6"
  }
 },
 "nbformat": 4,
 "nbformat_minor": 4
}
