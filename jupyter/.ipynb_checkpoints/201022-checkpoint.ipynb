{
 "cells": [
  {
   "cell_type": "code",
   "execution_count": 4,
   "metadata": {},
   "outputs": [],
   "source": [
    "import numpy as np \n",
    "import pandas as pd"
   ]
  },
  {
   "cell_type": "code",
   "execution_count": 5,
   "metadata": {},
   "outputs": [
    {
     "data": {
      "text/html": [
       "<div>\n",
       "<style scoped>\n",
       "    .dataframe tbody tr th:only-of-type {\n",
       "        vertical-align: middle;\n",
       "    }\n",
       "\n",
       "    .dataframe tbody tr th {\n",
       "        vertical-align: top;\n",
       "    }\n",
       "\n",
       "    .dataframe thead th {\n",
       "        text-align: right;\n",
       "    }\n",
       "</style>\n",
       "<table border=\"1\" class=\"dataframe\">\n",
       "  <thead>\n",
       "    <tr style=\"text-align: right;\">\n",
       "      <th></th>\n",
       "      <th>speed</th>\n",
       "      <th>dist</th>\n",
       "    </tr>\n",
       "  </thead>\n",
       "  <tbody>\n",
       "    <tr>\n",
       "      <th>0</th>\n",
       "      <td>4</td>\n",
       "      <td>2</td>\n",
       "    </tr>\n",
       "    <tr>\n",
       "      <th>1</th>\n",
       "      <td>4</td>\n",
       "      <td>10</td>\n",
       "    </tr>\n",
       "    <tr>\n",
       "      <th>2</th>\n",
       "      <td>7</td>\n",
       "      <td>4</td>\n",
       "    </tr>\n",
       "    <tr>\n",
       "      <th>3</th>\n",
       "      <td>7</td>\n",
       "      <td>22</td>\n",
       "    </tr>\n",
       "    <tr>\n",
       "      <th>4</th>\n",
       "      <td>8</td>\n",
       "      <td>16</td>\n",
       "    </tr>\n",
       "  </tbody>\n",
       "</table>\n",
       "</div>"
      ],
      "text/plain": [
       "   speed  dist\n",
       "0      4     2\n",
       "1      4    10\n",
       "2      7     4\n",
       "3      7    22\n",
       "4      8    16"
      ]
     },
     "execution_count": 5,
     "metadata": {},
     "output_type": "execute_result"
    }
   ],
   "source": [
    "# dist = -17.5791 + 3.9324 *speed\n",
    "#선형회귀 사전조사 \n",
    "\n",
    "df = pd.read_csv('cars.csv')\n",
    "df.head()"
   ]
  },
  {
   "cell_type": "code",
   "execution_count": 6,
   "metadata": {},
   "outputs": [
    {
     "data": {
      "text/html": [
       "<table class=\"simpletable\">\n",
       "<caption>OLS Regression Results</caption>\n",
       "<tr>\n",
       "  <th>Dep. Variable:</th>          <td>dist</td>       <th>  R-squared:         </th> <td>   0.896</td>\n",
       "</tr>\n",
       "<tr>\n",
       "  <th>Model:</th>                   <td>OLS</td>       <th>  Adj. R-squared:    </th> <td>   0.894</td>\n",
       "</tr>\n",
       "<tr>\n",
       "  <th>Method:</th>             <td>Least Squares</td>  <th>  F-statistic:       </th> <td>   423.5</td>\n",
       "</tr>\n",
       "<tr>\n",
       "  <th>Date:</th>             <td>Tue, 10 Nov 2020</td> <th>  Prob (F-statistic):</th> <td>9.23e-26</td>\n",
       "</tr>\n",
       "<tr>\n",
       "  <th>Time:</th>                 <td>18:13:25</td>     <th>  Log-Likelihood:    </th> <td> -209.87</td>\n",
       "</tr>\n",
       "<tr>\n",
       "  <th>No. Observations:</th>      <td>    50</td>      <th>  AIC:               </th> <td>   421.7</td>\n",
       "</tr>\n",
       "<tr>\n",
       "  <th>Df Residuals:</th>          <td>    49</td>      <th>  BIC:               </th> <td>   423.7</td>\n",
       "</tr>\n",
       "<tr>\n",
       "  <th>Df Model:</th>              <td>     1</td>      <th>                     </th>     <td> </td>   \n",
       "</tr>\n",
       "<tr>\n",
       "  <th>Covariance Type:</th>      <td>nonrobust</td>    <th>                     </th>     <td> </td>   \n",
       "</tr>\n",
       "</table>\n",
       "<table class=\"simpletable\">\n",
       "<tr>\n",
       "    <td></td>       <th>coef</th>     <th>std err</th>      <th>t</th>      <th>P>|t|</th>  <th>[0.025</th>    <th>0.975]</th>  \n",
       "</tr>\n",
       "<tr>\n",
       "  <th>speed</th> <td>    2.9091</td> <td>    0.141</td> <td>   20.578</td> <td> 0.000</td> <td>    2.625</td> <td>    3.193</td>\n",
       "</tr>\n",
       "</table>\n",
       "<table class=\"simpletable\">\n",
       "<tr>\n",
       "  <th>Omnibus:</th>       <td>14.345</td> <th>  Durbin-Watson:     </th> <td>   1.409</td>\n",
       "</tr>\n",
       "<tr>\n",
       "  <th>Prob(Omnibus):</th> <td> 0.001</td> <th>  Jarque-Bera (JB):  </th> <td>  15.573</td>\n",
       "</tr>\n",
       "<tr>\n",
       "  <th>Skew:</th>          <td> 1.202</td> <th>  Prob(JB):          </th> <td>0.000415</td>\n",
       "</tr>\n",
       "<tr>\n",
       "  <th>Kurtosis:</th>      <td> 4.302</td> <th>  Cond. No.          </th> <td>    1.00</td>\n",
       "</tr>\n",
       "</table><br/><br/>Warnings:<br/>[1] Standard Errors assume that the covariance matrix of the errors is correctly specified."
      ],
      "text/plain": [
       "<class 'statsmodels.iolib.summary.Summary'>\n",
       "\"\"\"\n",
       "                            OLS Regression Results                            \n",
       "==============================================================================\n",
       "Dep. Variable:                   dist   R-squared:                       0.896\n",
       "Model:                            OLS   Adj. R-squared:                  0.894\n",
       "Method:                 Least Squares   F-statistic:                     423.5\n",
       "Date:                Tue, 10 Nov 2020   Prob (F-statistic):           9.23e-26\n",
       "Time:                        18:13:25   Log-Likelihood:                -209.87\n",
       "No. Observations:                  50   AIC:                             421.7\n",
       "Df Residuals:                      49   BIC:                             423.7\n",
       "Df Model:                           1                                         \n",
       "Covariance Type:            nonrobust                                         \n",
       "==============================================================================\n",
       "                 coef    std err          t      P>|t|      [0.025      0.975]\n",
       "------------------------------------------------------------------------------\n",
       "speed          2.9091      0.141     20.578      0.000       2.625       3.193\n",
       "==============================================================================\n",
       "Omnibus:                       14.345   Durbin-Watson:                   1.409\n",
       "Prob(Omnibus):                  0.001   Jarque-Bera (JB):               15.573\n",
       "Skew:                           1.202   Prob(JB):                     0.000415\n",
       "Kurtosis:                       4.302   Cond. No.                         1.00\n",
       "==============================================================================\n",
       "\n",
       "Warnings:\n",
       "[1] Standard Errors assume that the covariance matrix of the errors is correctly specified.\n",
       "\"\"\""
      ]
     },
     "execution_count": 6,
     "metadata": {},
     "output_type": "execute_result"
    }
   ],
   "source": [
    "from statsmodels.formula.api import ols \n",
    "res = ols('dist ~ 0 + speed',df ).fit()\n",
    "res.summary()"
   ]
  },
  {
   "cell_type": "code",
   "execution_count": 8,
   "metadata": {},
   "outputs": [],
   "source": [
    "# dist = 0 + 2.9091*speed \n",
    "\n",
    "\n",
    "#공선성 : 하나의 독립변수가 다른하나의 독립변수로 잘 예측되는경우 서로 상관이 높은경우\n",
    "#다중공선성 : 하나의 독립변수가 다른 여러 개의 독립변수들로 예측되는 경우 \n",
    "\n",
    "#다중 공선성의 진단.\n",
    "#분산 팽창계수 (VIF(Variance Inflation Factior))\n",
    "# (10 보다 크면 다중 공선성이 있다고 판단 )\n",
    "\n"
   ]
  },
  {
   "cell_type": "code",
   "execution_count": 13,
   "metadata": {},
   "outputs": [],
   "source": [
    "import pandas as pd \n",
    "df = pd.read_csv('crab.csv')\n"
   ]
  },
  {
   "cell_type": "code",
   "execution_count": 14,
   "metadata": {},
   "outputs": [
    {
     "data": {
      "text/html": [
       "<div>\n",
       "<style scoped>\n",
       "    .dataframe tbody tr th:only-of-type {\n",
       "        vertical-align: middle;\n",
       "    }\n",
       "\n",
       "    .dataframe tbody tr th {\n",
       "        vertical-align: top;\n",
       "    }\n",
       "\n",
       "    .dataframe thead th {\n",
       "        text-align: right;\n",
       "    }\n",
       "</style>\n",
       "<table border=\"1\" class=\"dataframe\">\n",
       "  <thead>\n",
       "    <tr style=\"text-align: right;\">\n",
       "      <th></th>\n",
       "      <th>crab</th>\n",
       "      <th>sat</th>\n",
       "      <th>y</th>\n",
       "      <th>weight</th>\n",
       "      <th>width</th>\n",
       "      <th>color</th>\n",
       "      <th>spine</th>\n",
       "    </tr>\n",
       "  </thead>\n",
       "  <tbody>\n",
       "    <tr>\n",
       "      <th>0</th>\n",
       "      <td>1</td>\n",
       "      <td>8</td>\n",
       "      <td>1</td>\n",
       "      <td>3.05</td>\n",
       "      <td>28.3</td>\n",
       "      <td>2</td>\n",
       "      <td>3</td>\n",
       "    </tr>\n",
       "    <tr>\n",
       "      <th>1</th>\n",
       "      <td>2</td>\n",
       "      <td>0</td>\n",
       "      <td>0</td>\n",
       "      <td>1.55</td>\n",
       "      <td>22.5</td>\n",
       "      <td>3</td>\n",
       "      <td>3</td>\n",
       "    </tr>\n",
       "    <tr>\n",
       "      <th>2</th>\n",
       "      <td>3</td>\n",
       "      <td>9</td>\n",
       "      <td>1</td>\n",
       "      <td>2.30</td>\n",
       "      <td>26.0</td>\n",
       "      <td>1</td>\n",
       "      <td>1</td>\n",
       "    </tr>\n",
       "    <tr>\n",
       "      <th>3</th>\n",
       "      <td>4</td>\n",
       "      <td>0</td>\n",
       "      <td>0</td>\n",
       "      <td>2.10</td>\n",
       "      <td>24.8</td>\n",
       "      <td>3</td>\n",
       "      <td>3</td>\n",
       "    </tr>\n",
       "    <tr>\n",
       "      <th>4</th>\n",
       "      <td>5</td>\n",
       "      <td>4</td>\n",
       "      <td>1</td>\n",
       "      <td>2.60</td>\n",
       "      <td>26.0</td>\n",
       "      <td>3</td>\n",
       "      <td>3</td>\n",
       "    </tr>\n",
       "  </tbody>\n",
       "</table>\n",
       "</div>"
      ],
      "text/plain": [
       "   crab  sat  y  weight  width  color  spine\n",
       "0     1    8  1    3.05   28.3      2      3\n",
       "1     2    0  0    1.55   22.5      3      3\n",
       "2     3    9  1    2.30   26.0      1      1\n",
       "3     4    0  0    2.10   24.8      3      3\n",
       "4     5    4  1    2.60   26.0      3      3"
      ]
     },
     "execution_count": 14,
     "metadata": {},
     "output_type": "execute_result"
    }
   ],
   "source": [
    "df.head()"
   ]
  },
  {
   "cell_type": "code",
   "execution_count": 15,
   "metadata": {},
   "outputs": [],
   "source": [
    "from statsmodels.formula.api import ols "
   ]
  },
  {
   "cell_type": "code",
   "execution_count": 16,
   "metadata": {},
   "outputs": [],
   "source": [
    "model = ols('y ~ sat + weight + width',df)\n",
    "res = model.fit()"
   ]
  },
  {
   "cell_type": "code",
   "execution_count": 10,
   "metadata": {},
   "outputs": [
    {
     "data": {
      "text/html": [
       "<table class=\"simpletable\">\n",
       "<caption>OLS Regression Results</caption>\n",
       "<tr>\n",
       "  <th>Dep. Variable:</th>            <td>y</td>        <th>  R-squared:         </th> <td>   0.514</td>\n",
       "</tr>\n",
       "<tr>\n",
       "  <th>Model:</th>                   <td>OLS</td>       <th>  Adj. R-squared:    </th> <td>   0.506</td>\n",
       "</tr>\n",
       "<tr>\n",
       "  <th>Method:</th>             <td>Least Squares</td>  <th>  F-statistic:       </th> <td>   59.69</td>\n",
       "</tr>\n",
       "<tr>\n",
       "  <th>Date:</th>             <td>Tue, 10 Nov 2020</td> <th>  Prob (F-statistic):</th> <td>2.30e-26</td>\n",
       "</tr>\n",
       "<tr>\n",
       "  <th>Time:</th>                 <td>18:13:35</td>     <th>  Log-Likelihood:    </th> <td> -55.831</td>\n",
       "</tr>\n",
       "<tr>\n",
       "  <th>No. Observations:</th>      <td>   173</td>      <th>  AIC:               </th> <td>   119.7</td>\n",
       "</tr>\n",
       "<tr>\n",
       "  <th>Df Residuals:</th>          <td>   169</td>      <th>  BIC:               </th> <td>   132.3</td>\n",
       "</tr>\n",
       "<tr>\n",
       "  <th>Df Model:</th>              <td>     3</td>      <th>                     </th>     <td> </td>   \n",
       "</tr>\n",
       "<tr>\n",
       "  <th>Covariance Type:</th>      <td>nonrobust</td>    <th>                     </th>     <td> </td>   \n",
       "</tr>\n",
       "</table>\n",
       "<table class=\"simpletable\">\n",
       "<tr>\n",
       "      <td></td>         <th>coef</th>     <th>std err</th>      <th>t</th>      <th>P>|t|</th>  <th>[0.025</th>    <th>0.975]</th>  \n",
       "</tr>\n",
       "<tr>\n",
       "  <th>Intercept</th> <td>   -0.9366</td> <td>    0.500</td> <td>   -1.872</td> <td> 0.063</td> <td>   -1.924</td> <td>    0.051</td>\n",
       "</tr>\n",
       "<tr>\n",
       "  <th>sat</th>       <td>    0.0971</td> <td>    0.009</td> <td>   11.018</td> <td> 0.000</td> <td>    0.080</td> <td>    0.115</td>\n",
       "</tr>\n",
       "<tr>\n",
       "  <th>weight</th>    <td>   -0.0465</td> <td>    0.098</td> <td>   -0.475</td> <td> 0.635</td> <td>   -0.240</td> <td>    0.147</td>\n",
       "</tr>\n",
       "<tr>\n",
       "  <th>width</th>     <td>    0.0535</td> <td>    0.026</td> <td>    2.023</td> <td> 0.045</td> <td>    0.001</td> <td>    0.106</td>\n",
       "</tr>\n",
       "</table>\n",
       "<table class=\"simpletable\">\n",
       "<tr>\n",
       "  <th>Omnibus:</th>       <td>29.724</td> <th>  Durbin-Watson:     </th> <td>   1.475</td>\n",
       "</tr>\n",
       "<tr>\n",
       "  <th>Prob(Omnibus):</th> <td> 0.000</td> <th>  Jarque-Bera (JB):  </th> <td>   7.545</td>\n",
       "</tr>\n",
       "<tr>\n",
       "  <th>Skew:</th>          <td> 0.086</td> <th>  Prob(JB):          </th> <td>  0.0230</td>\n",
       "</tr>\n",
       "<tr>\n",
       "  <th>Kurtosis:</th>      <td> 1.992</td> <th>  Cond. No.          </th> <td>    526.</td>\n",
       "</tr>\n",
       "</table><br/><br/>Warnings:<br/>[1] Standard Errors assume that the covariance matrix of the errors is correctly specified."
      ],
      "text/plain": [
       "<class 'statsmodels.iolib.summary.Summary'>\n",
       "\"\"\"\n",
       "                            OLS Regression Results                            \n",
       "==============================================================================\n",
       "Dep. Variable:                      y   R-squared:                       0.514\n",
       "Model:                            OLS   Adj. R-squared:                  0.506\n",
       "Method:                 Least Squares   F-statistic:                     59.69\n",
       "Date:                Tue, 10 Nov 2020   Prob (F-statistic):           2.30e-26\n",
       "Time:                        18:13:35   Log-Likelihood:                -55.831\n",
       "No. Observations:                 173   AIC:                             119.7\n",
       "Df Residuals:                     169   BIC:                             132.3\n",
       "Df Model:                           3                                         \n",
       "Covariance Type:            nonrobust                                         \n",
       "==============================================================================\n",
       "                 coef    std err          t      P>|t|      [0.025      0.975]\n",
       "------------------------------------------------------------------------------\n",
       "Intercept     -0.9366      0.500     -1.872      0.063      -1.924       0.051\n",
       "sat            0.0971      0.009     11.018      0.000       0.080       0.115\n",
       "weight        -0.0465      0.098     -0.475      0.635      -0.240       0.147\n",
       "width          0.0535      0.026      2.023      0.045       0.001       0.106\n",
       "==============================================================================\n",
       "Omnibus:                       29.724   Durbin-Watson:                   1.475\n",
       "Prob(Omnibus):                  0.000   Jarque-Bera (JB):                7.545\n",
       "Skew:                           0.086   Prob(JB):                       0.0230\n",
       "Kurtosis:                       1.992   Cond. No.                         526.\n",
       "==============================================================================\n",
       "\n",
       "Warnings:\n",
       "[1] Standard Errors assume that the covariance matrix of the errors is correctly specified.\n",
       "\"\"\""
      ]
     },
     "execution_count": 10,
     "metadata": {},
     "output_type": "execute_result"
    }
   ],
   "source": [
    "res.summary()"
   ]
  },
  {
   "cell_type": "code",
   "execution_count": 21,
   "metadata": {},
   "outputs": [],
   "source": [
    "# y = 0.0971*sat + 0.0535+width"
   ]
  },
  {
   "cell_type": "code",
   "execution_count": 42,
   "metadata": {},
   "outputs": [],
   "source": [
    "from statsmodels.stats.outliers_influence import variance_inflation_factor "
   ]
  },
  {
   "cell_type": "code",
   "execution_count": 46,
   "metadata": {},
   "outputs": [
    {
     "data": {
      "text/plain": [
       "array([[ 1.   ,  8.   ,  3.05 , 28.3  ],\n",
       "       [ 1.   ,  0.   ,  1.55 , 22.5  ],\n",
       "       [ 1.   ,  9.   ,  2.3  , 26.   ],\n",
       "       [ 1.   ,  0.   ,  2.1  , 24.8  ],\n",
       "       [ 1.   ,  4.   ,  2.6  , 26.   ],\n",
       "       [ 1.   ,  0.   ,  2.1  , 23.8  ],\n",
       "       [ 1.   ,  0.   ,  2.35 , 26.5  ],\n",
       "       [ 1.   ,  0.   ,  1.9  , 24.7  ],\n",
       "       [ 1.   ,  0.   ,  1.95 , 23.7  ],\n",
       "       [ 1.   ,  0.   ,  2.15 , 25.6  ],\n",
       "       [ 1.   ,  0.   ,  2.15 , 24.3  ],\n",
       "       [ 1.   ,  0.   ,  2.65 , 25.8  ],\n",
       "       [ 1.   , 11.   ,  3.05 , 28.2  ],\n",
       "       [ 1.   ,  0.   ,  1.85 , 21.   ],\n",
       "       [ 1.   , 14.   ,  2.3  , 26.   ],\n",
       "       [ 1.   ,  8.   ,  2.95 , 27.1  ],\n",
       "       [ 1.   ,  1.   ,  2.   , 25.2  ],\n",
       "       [ 1.   ,  1.   ,  3.   , 29.   ],\n",
       "       [ 1.   ,  0.   ,  2.2  , 24.7  ],\n",
       "       [ 1.   ,  5.   ,  2.7  , 27.4  ],\n",
       "       [ 1.   ,  4.   ,  1.95 , 23.2  ],\n",
       "       [ 1.   ,  3.   ,  2.3  , 25.   ],\n",
       "       [ 1.   ,  1.   ,  1.6  , 22.5  ],\n",
       "       [ 1.   ,  2.   ,  2.6  , 26.7  ],\n",
       "       [ 1.   ,  3.   ,  2.   , 25.8  ],\n",
       "       [ 1.   ,  0.   ,  1.3  , 26.2  ],\n",
       "       [ 1.   ,  3.   ,  3.15 , 28.7  ],\n",
       "       [ 1.   ,  5.   ,  2.7  , 26.8  ],\n",
       "       [ 1.   ,  0.   ,  2.6  , 27.5  ],\n",
       "       [ 1.   ,  0.   ,  2.1  , 24.9  ],\n",
       "       [ 1.   ,  4.   ,  3.2  , 29.3  ],\n",
       "       [ 1.   ,  0.   ,  2.6  , 25.8  ],\n",
       "       [ 1.   ,  0.   ,  2.   , 25.7  ],\n",
       "       [ 1.   ,  8.   ,  2.   , 25.7  ],\n",
       "       [ 1.   ,  5.   ,  2.7  , 26.7  ],\n",
       "       [ 1.   ,  0.   ,  1.85 , 23.7  ],\n",
       "       [ 1.   ,  0.   ,  2.65 , 26.8  ],\n",
       "       [ 1.   ,  6.   ,  3.15 , 27.5  ],\n",
       "       [ 1.   ,  0.   ,  1.9  , 23.4  ],\n",
       "       [ 1.   ,  6.   ,  2.8  , 27.9  ],\n",
       "       [ 1.   ,  3.   ,  3.1  , 27.5  ],\n",
       "       [ 1.   ,  5.   ,  2.8  , 26.1  ],\n",
       "       [ 1.   ,  6.   ,  2.5  , 27.7  ],\n",
       "       [ 1.   ,  5.   ,  3.3  , 30.   ],\n",
       "       [ 1.   ,  9.   ,  3.25 , 28.5  ],\n",
       "       [ 1.   ,  4.   ,  2.8  , 28.9  ],\n",
       "       [ 1.   ,  6.   ,  2.6  , 28.2  ],\n",
       "       [ 1.   ,  4.   ,  2.1  , 25.   ],\n",
       "       [ 1.   ,  3.   ,  3.   , 28.5  ],\n",
       "       [ 1.   ,  3.   ,  3.6  , 30.3  ],\n",
       "       [ 1.   ,  5.   ,  2.1  , 24.7  ],\n",
       "       [ 1.   ,  5.   ,  2.9  , 27.7  ],\n",
       "       [ 1.   ,  6.   ,  2.7  , 27.4  ],\n",
       "       [ 1.   ,  4.   ,  1.6  , 22.9  ],\n",
       "       [ 1.   ,  5.   ,  2.   , 25.7  ],\n",
       "       [ 1.   , 15.   ,  3.   , 28.3  ],\n",
       "       [ 1.   ,  3.   ,  2.7  , 27.2  ],\n",
       "       [ 1.   ,  3.   ,  2.3  , 26.2  ],\n",
       "       [ 1.   ,  0.   ,  2.75 , 27.8  ],\n",
       "       [ 1.   ,  0.   ,  2.25 , 25.5  ],\n",
       "       [ 1.   ,  0.   ,  2.55 , 27.1  ],\n",
       "       [ 1.   ,  5.   ,  2.05 , 24.5  ],\n",
       "       [ 1.   ,  3.   ,  2.45 , 27.   ],\n",
       "       [ 1.   ,  5.   ,  2.15 , 26.   ],\n",
       "       [ 1.   ,  1.   ,  2.8  , 28.   ],\n",
       "       [ 1.   ,  8.   ,  3.05 , 30.   ],\n",
       "       [ 1.   , 10.   ,  3.2  , 29.   ],\n",
       "       [ 1.   ,  0.   ,  2.4  , 26.2  ],\n",
       "       [ 1.   ,  0.   ,  1.3  , 26.5  ],\n",
       "       [ 1.   ,  3.   ,  2.4  , 26.2  ],\n",
       "       [ 1.   ,  7.   ,  2.8  , 25.6  ],\n",
       "       [ 1.   ,  1.   ,  1.65 , 23.   ],\n",
       "       [ 1.   ,  0.   ,  1.8  , 23.   ],\n",
       "       [ 1.   ,  6.   ,  2.25 , 25.4  ],\n",
       "       [ 1.   ,  0.   ,  1.9  , 24.2  ],\n",
       "       [ 1.   ,  0.   ,  1.6  , 22.9  ],\n",
       "       [ 1.   ,  3.   ,  2.2  , 26.   ],\n",
       "       [ 1.   ,  4.   ,  2.25 , 25.4  ],\n",
       "       [ 1.   ,  0.   ,  1.2  , 25.7  ],\n",
       "       [ 1.   ,  5.   ,  2.1  , 25.1  ],\n",
       "       [ 1.   ,  0.   ,  2.25 , 24.5  ],\n",
       "       [ 1.   ,  0.   ,  2.9  , 27.5  ],\n",
       "       [ 1.   ,  0.   ,  1.65 , 23.1  ],\n",
       "       [ 1.   ,  4.   ,  2.55 , 25.9  ],\n",
       "       [ 1.   ,  0.   ,  2.3  , 25.8  ],\n",
       "       [ 1.   ,  3.   ,  2.25 , 27.   ],\n",
       "       [ 1.   ,  0.   ,  3.05 , 28.5  ],\n",
       "       [ 1.   ,  0.   ,  2.75 , 25.5  ],\n",
       "       [ 1.   ,  0.   ,  1.9  , 23.5  ],\n",
       "       [ 1.   ,  0.   ,  1.7  , 24.   ],\n",
       "       [ 1.   ,  5.   ,  3.85 , 29.7  ],\n",
       "       [ 1.   ,  0.   ,  2.55 , 26.8  ],\n",
       "       [ 1.   ,  0.   ,  2.45 , 26.7  ],\n",
       "       [ 1.   ,  0.   ,  3.2  , 28.7  ],\n",
       "       [ 1.   ,  0.   ,  1.55 , 23.1  ],\n",
       "       [ 1.   ,  1.   ,  2.8  , 29.   ],\n",
       "       [ 1.   ,  0.   ,  2.25 , 25.5  ],\n",
       "       [ 1.   ,  1.   ,  1.967, 26.5  ],\n",
       "       [ 1.   ,  1.   ,  2.2  , 24.5  ],\n",
       "       [ 1.   ,  1.   ,  3.   , 28.5  ],\n",
       "       [ 1.   ,  1.   ,  2.867, 28.2  ],\n",
       "       [ 1.   ,  1.   ,  1.6  , 24.5  ],\n",
       "       [ 1.   ,  1.   ,  2.55 , 27.5  ],\n",
       "       [ 1.   ,  4.   ,  2.55 , 24.7  ],\n",
       "       [ 1.   ,  1.   ,  2.   , 25.2  ],\n",
       "       [ 1.   ,  1.   ,  2.9  , 27.3  ],\n",
       "       [ 1.   ,  1.   ,  2.4  , 26.3  ],\n",
       "       [ 1.   ,  1.   ,  3.1  , 29.   ],\n",
       "       [ 1.   ,  2.   ,  1.9  , 25.3  ],\n",
       "       [ 1.   ,  4.   ,  2.3  , 26.5  ],\n",
       "       [ 1.   ,  3.   ,  3.25 , 27.8  ],\n",
       "       [ 1.   ,  6.   ,  2.5  , 27.   ],\n",
       "       [ 1.   ,  0.   ,  2.1  , 25.7  ],\n",
       "       [ 1.   ,  2.   ,  2.1  , 25.   ],\n",
       "       [ 1.   ,  2.   ,  3.325, 31.9  ],\n",
       "       [ 1.   ,  0.   ,  1.8  , 23.7  ],\n",
       "       [ 1.   , 12.   ,  3.225, 29.3  ],\n",
       "       [ 1.   ,  0.   ,  1.4  , 22.   ],\n",
       "       [ 1.   ,  5.   ,  2.4  , 25.   ],\n",
       "       [ 1.   ,  6.   ,  2.5  , 27.   ],\n",
       "       [ 1.   ,  6.   ,  1.8  , 23.8  ],\n",
       "       [ 1.   ,  2.   ,  3.275, 30.2  ],\n",
       "       [ 1.   ,  0.   ,  2.225, 26.2  ],\n",
       "       [ 1.   ,  2.   ,  1.65 , 24.2  ],\n",
       "       [ 1.   ,  3.   ,  2.9  , 27.4  ],\n",
       "       [ 1.   ,  0.   ,  2.3  , 25.4  ],\n",
       "       [ 1.   ,  3.   ,  3.2  , 28.4  ],\n",
       "       [ 1.   ,  4.   ,  1.475, 22.5  ],\n",
       "       [ 1.   ,  2.   ,  2.025, 26.2  ],\n",
       "       [ 1.   ,  6.   ,  2.3  , 24.9  ],\n",
       "       [ 1.   ,  6.   ,  1.95 , 24.5  ],\n",
       "       [ 1.   ,  0.   ,  1.8  , 25.1  ],\n",
       "       [ 1.   ,  4.   ,  2.9  , 28.   ],\n",
       "       [ 1.   , 10.   ,  2.25 , 25.8  ],\n",
       "       [ 1.   ,  7.   ,  3.05 , 27.9  ],\n",
       "       [ 1.   ,  0.   ,  2.2  , 24.9  ],\n",
       "       [ 1.   ,  5.   ,  3.1  , 28.4  ],\n",
       "       [ 1.   ,  5.   ,  2.4  , 27.2  ],\n",
       "       [ 1.   ,  6.   ,  2.25 , 25.   ],\n",
       "       [ 1.   ,  6.   ,  2.625, 27.5  ],\n",
       "       [ 1.   ,  7.   ,  5.2  , 33.5  ],\n",
       "       [ 1.   ,  3.   ,  3.325, 30.5  ],\n",
       "       [ 1.   ,  3.   ,  2.925, 29.   ],\n",
       "       [ 1.   ,  0.   ,  2.   , 24.3  ],\n",
       "       [ 1.   ,  0.   ,  2.4  , 25.8  ],\n",
       "       [ 1.   ,  8.   ,  2.1  , 25.   ],\n",
       "       [ 1.   ,  4.   ,  3.725, 31.7  ],\n",
       "       [ 1.   ,  4.   ,  3.025, 29.5  ],\n",
       "       [ 1.   , 10.   ,  1.9  , 24.   ],\n",
       "       [ 1.   ,  9.   ,  3.   , 30.   ],\n",
       "       [ 1.   ,  4.   ,  2.85 , 27.6  ],\n",
       "       [ 1.   ,  0.   ,  2.3  , 26.2  ],\n",
       "       [ 1.   ,  0.   ,  2.   , 23.1  ],\n",
       "       [ 1.   ,  0.   ,  1.6  , 22.9  ],\n",
       "       [ 1.   ,  0.   ,  1.9  , 24.5  ],\n",
       "       [ 1.   ,  4.   ,  1.95 , 24.7  ],\n",
       "       [ 1.   ,  0.   ,  3.2  , 28.3  ],\n",
       "       [ 1.   ,  2.   ,  1.85 , 23.9  ],\n",
       "       [ 1.   ,  0.   ,  1.8  , 23.8  ],\n",
       "       [ 1.   ,  4.   ,  3.5  , 29.8  ],\n",
       "       [ 1.   ,  4.   ,  2.35 , 26.5  ],\n",
       "       [ 1.   ,  3.   ,  2.275, 26.   ],\n",
       "       [ 1.   ,  8.   ,  3.05 , 28.2  ],\n",
       "       [ 1.   ,  0.   ,  2.15 , 25.7  ],\n",
       "       [ 1.   ,  7.   ,  2.75 , 26.5  ],\n",
       "       [ 1.   ,  0.   ,  2.2  , 25.8  ],\n",
       "       [ 1.   ,  0.   ,  1.8  , 24.1  ],\n",
       "       [ 1.   ,  2.   ,  2.175, 26.2  ],\n",
       "       [ 1.   ,  3.   ,  2.75 , 26.1  ],\n",
       "       [ 1.   ,  4.   ,  3.275, 29.   ],\n",
       "       [ 1.   ,  0.   ,  2.625, 28.   ],\n",
       "       [ 1.   ,  0.   ,  2.625, 27.   ],\n",
       "       [ 1.   ,  0.   ,  2.   , 24.5  ]])"
      ]
     },
     "execution_count": 46,
     "metadata": {},
     "output_type": "execute_result"
    }
   ],
   "source": [
    "model.exog"
   ]
  },
  {
   "cell_type": "code",
   "execution_count": 48,
   "metadata": {},
   "outputs": [
    {
     "data": {
      "text/plain": [
       "1.1588368780857803"
      ]
     },
     "execution_count": 48,
     "metadata": {},
     "output_type": "execute_result"
    }
   ],
   "source": [
    "variance_inflation_factor(model.exog,1)"
   ]
  },
  {
   "cell_type": "code",
   "execution_count": 53,
   "metadata": {},
   "outputs": [
    {
     "data": {
      "text/html": [
       "<div>\n",
       "<style scoped>\n",
       "    .dataframe tbody tr th:only-of-type {\n",
       "        vertical-align: middle;\n",
       "    }\n",
       "\n",
       "    .dataframe tbody tr th {\n",
       "        vertical-align: top;\n",
       "    }\n",
       "\n",
       "    .dataframe thead th {\n",
       "        text-align: right;\n",
       "    }\n",
       "</style>\n",
       "<table border=\"1\" class=\"dataframe\">\n",
       "  <thead>\n",
       "    <tr style=\"text-align: right;\">\n",
       "      <th></th>\n",
       "      <th>VIF</th>\n",
       "      <th>독립변수명</th>\n",
       "    </tr>\n",
       "  </thead>\n",
       "  <tbody>\n",
       "    <tr>\n",
       "      <th>0</th>\n",
       "      <td>1.157868</td>\n",
       "      <td>sat</td>\n",
       "    </tr>\n",
       "    <tr>\n",
       "      <th>1</th>\n",
       "      <td>1.157868</td>\n",
       "      <td>weight</td>\n",
       "    </tr>\n",
       "  </tbody>\n",
       "</table>\n",
       "</div>"
      ],
      "text/plain": [
       "        VIF  독립변수명 \n",
       "0  1.157868     sat\n",
       "1  1.157868  weight"
      ]
     },
     "execution_count": 53,
     "metadata": {},
     "output_type": "execute_result"
    }
   ],
   "source": [
    "pd.DataFrame({'독립변수명 ': column,\n",
    "             'VIF' : variance_inflation_factor (model.exog,i)}\n",
    "            for i , column in enumerate(model.exog_names)\n",
    "            if column != 'Intercept')"
   ]
  },
  {
   "cell_type": "code",
   "execution_count": 49,
   "metadata": {},
   "outputs": [
    {
     "data": {
      "text/html": [
       "<table class=\"simpletable\">\n",
       "<caption>OLS Regression Results</caption>\n",
       "<tr>\n",
       "  <th>Dep. Variable:</th>            <td>y</td>        <th>  R-squared:         </th> <td>   0.503</td>\n",
       "</tr>\n",
       "<tr>\n",
       "  <th>Model:</th>                   <td>OLS</td>       <th>  Adj. R-squared:    </th> <td>   0.497</td>\n",
       "</tr>\n",
       "<tr>\n",
       "  <th>Method:</th>             <td>Least Squares</td>  <th>  F-statistic:       </th> <td>   85.93</td>\n",
       "</tr>\n",
       "<tr>\n",
       "  <th>Date:</th>             <td>Thu, 22 Oct 2020</td> <th>  Prob (F-statistic):</th> <td>1.63e-26</td>\n",
       "</tr>\n",
       "<tr>\n",
       "  <th>Time:</th>                 <td>09:48:43</td>     <th>  Log-Likelihood:    </th> <td> -57.901</td>\n",
       "</tr>\n",
       "<tr>\n",
       "  <th>No. Observations:</th>      <td>   173</td>      <th>  AIC:               </th> <td>   121.8</td>\n",
       "</tr>\n",
       "<tr>\n",
       "  <th>Df Residuals:</th>          <td>   170</td>      <th>  BIC:               </th> <td>   131.3</td>\n",
       "</tr>\n",
       "<tr>\n",
       "  <th>Df Model:</th>              <td>     2</td>      <th>                     </th>     <td> </td>   \n",
       "</tr>\n",
       "<tr>\n",
       "  <th>Covariance Type:</th>      <td>nonrobust</td>    <th>                     </th>     <td> </td>   \n",
       "</tr>\n",
       "</table>\n",
       "<table class=\"simpletable\">\n",
       "<tr>\n",
       "      <td></td>         <th>coef</th>     <th>std err</th>      <th>t</th>      <th>P>|t|</th>  <th>[0.025</th>    <th>0.975]</th>  \n",
       "</tr>\n",
       "<tr>\n",
       "  <th>Intercept</th> <td>    0.0495</td> <td>    0.114</td> <td>    0.433</td> <td> 0.665</td> <td>   -0.176</td> <td>    0.275</td>\n",
       "</tr>\n",
       "<tr>\n",
       "  <th>sat</th>       <td>    0.0976</td> <td>    0.009</td> <td>   10.982</td> <td> 0.000</td> <td>    0.080</td> <td>    0.115</td>\n",
       "</tr>\n",
       "<tr>\n",
       "  <th>weight</th>    <td>    0.1260</td> <td>    0.049</td> <td>    2.598</td> <td> 0.010</td> <td>    0.030</td> <td>    0.222</td>\n",
       "</tr>\n",
       "</table>\n",
       "<table class=\"simpletable\">\n",
       "<tr>\n",
       "  <th>Omnibus:</th>       <td>40.033</td> <th>  Durbin-Watson:     </th> <td>   1.433</td>\n",
       "</tr>\n",
       "<tr>\n",
       "  <th>Prob(Omnibus):</th> <td> 0.000</td> <th>  Jarque-Bera (JB):  </th> <td>   8.709</td>\n",
       "</tr>\n",
       "<tr>\n",
       "  <th>Skew:</th>          <td> 0.121</td> <th>  Prob(JB):          </th> <td>  0.0128</td>\n",
       "</tr>\n",
       "<tr>\n",
       "  <th>Kurtosis:</th>      <td> 1.928</td> <th>  Cond. No.          </th> <td>    22.7</td>\n",
       "</tr>\n",
       "</table><br/><br/>Warnings:<br/>[1] Standard Errors assume that the covariance matrix of the errors is correctly specified."
      ],
      "text/plain": [
       "<class 'statsmodels.iolib.summary.Summary'>\n",
       "\"\"\"\n",
       "                            OLS Regression Results                            \n",
       "==============================================================================\n",
       "Dep. Variable:                      y   R-squared:                       0.503\n",
       "Model:                            OLS   Adj. R-squared:                  0.497\n",
       "Method:                 Least Squares   F-statistic:                     85.93\n",
       "Date:                Thu, 22 Oct 2020   Prob (F-statistic):           1.63e-26\n",
       "Time:                        09:48:43   Log-Likelihood:                -57.901\n",
       "No. Observations:                 173   AIC:                             121.8\n",
       "Df Residuals:                     170   BIC:                             131.3\n",
       "Df Model:                           2                                         \n",
       "Covariance Type:            nonrobust                                         \n",
       "==============================================================================\n",
       "                 coef    std err          t      P>|t|      [0.025      0.975]\n",
       "------------------------------------------------------------------------------\n",
       "Intercept      0.0495      0.114      0.433      0.665      -0.176       0.275\n",
       "sat            0.0976      0.009     10.982      0.000       0.080       0.115\n",
       "weight         0.1260      0.049      2.598      0.010       0.030       0.222\n",
       "==============================================================================\n",
       "Omnibus:                       40.033   Durbin-Watson:                   1.433\n",
       "Prob(Omnibus):                  0.000   Jarque-Bera (JB):                8.709\n",
       "Skew:                           0.121   Prob(JB):                       0.0128\n",
       "Kurtosis:                       1.928   Cond. No.                         22.7\n",
       "==============================================================================\n",
       "\n",
       "Warnings:\n",
       "[1] Standard Errors assume that the covariance matrix of the errors is correctly specified.\n",
       "\"\"\""
      ]
     },
     "execution_count": 49,
     "metadata": {},
     "output_type": "execute_result"
    }
   ],
   "source": [
    "model = ols('y ~ sat + weight',df)\n",
    "model.fit().summary()"
   ]
  },
  {
   "cell_type": "code",
   "execution_count": 60,
   "metadata": {},
   "outputs": [],
   "source": [
    "df = pd.read_csv('cars.csv')\n",
    "# 회귀분석\n",
    "# 선형 ..\n",
    "# 잔차 \n",
    "\n",
    "#모든 예측값에서 잔차가 비슷하게 있어야 함 \n",
    "\n",
    "import matplotlib.pyplot as plt \n",
    "import seaborn as sns \n",
    "from statsmodels.formula.api import ols \n",
    "res = ols('dist ~ speed',data = df).fit()"
   ]
  },
  {
   "cell_type": "code",
   "execution_count": 62,
   "metadata": {},
   "outputs": [
    {
     "data": {
      "text/plain": [
       "0      3.849460\n",
       "1     11.849460\n",
       "2     -5.947766\n",
       "3     12.052234\n",
       "4      2.119825\n",
       "5     -7.812584\n",
       "6     -3.744993\n",
       "7      4.255007\n",
       "8     12.255007\n",
       "9     -8.677401\n",
       "10     2.322599\n",
       "11   -15.609810\n",
       "12    -9.609810\n",
       "13    -5.609810\n",
       "14    -1.609810\n",
       "15    -7.542219\n",
       "16     0.457781\n",
       "17     0.457781\n",
       "18    12.457781\n",
       "19   -11.474628\n",
       "20    -1.474628\n",
       "21    22.525372\n",
       "22    42.525372\n",
       "23   -21.407036\n",
       "24   -15.407036\n",
       "25    12.592964\n",
       "26   -13.339445\n",
       "27    -5.339445\n",
       "28   -17.271854\n",
       "29    -9.271854\n",
       "30     0.728146\n",
       "31   -11.204263\n",
       "32     2.795737\n",
       "33    22.795737\n",
       "34    30.795737\n",
       "35   -21.136672\n",
       "36   -11.136672\n",
       "37    10.863328\n",
       "38   -29.069080\n",
       "39   -13.069080\n",
       "40    -9.069080\n",
       "41    -5.069080\n",
       "42     2.930920\n",
       "43    -2.933898\n",
       "44   -18.866307\n",
       "45    -6.798715\n",
       "46    15.201285\n",
       "47    16.201285\n",
       "48    43.201285\n",
       "49     4.268876\n",
       "dtype: float64"
      ]
     },
     "execution_count": 62,
     "metadata": {},
     "output_type": "execute_result"
    }
   ],
   "source": [
    "fitted = res.predict(df)\n",
    "residual = df['dist']-fitted \n",
    "residual\n",
    "\n"
   ]
  },
  {
   "cell_type": "code",
   "execution_count": 65,
   "metadata": {},
   "outputs": [
    {
     "data": {
      "text/plain": [
       "[<matplotlib.lines.Line2D at 0x28215596cc0>]"
      ]
     },
     "execution_count": 65,
     "metadata": {},
     "output_type": "execute_result"
    },
    {
     "data": {
      "image/png": "[encoded data removed]",
      "text/plain": [
       "<Figure size 432x288 with 1 Axes>"
      ]
     },
     "metadata": {
      "needs_background": "light"
     },
     "output_type": "display_data"
    }
   ],
   "source": [
    "sns.regplot(fitted,residual, lowess=True , line_kws={'color':'red'})\n",
    "plt.plot([fitted.min(),fitted.max()],[0,0],'--', color ='blue')\n",
    "\n",
    "#잔차 분석 "
   ]
  },
  {
   "cell_type": "code",
   "execution_count": 66,
   "metadata": {},
   "outputs": [],
   "source": [
    "#잔차의 정규성 \n",
    "#Q-Q plot \n",
    "import scipy.stats"
   ]
  },
  {
   "cell_type": "code",
   "execution_count": 68,
   "metadata": {},
   "outputs": [],
   "source": [
    "sr = scipy.stats.zscore(residual)\n",
    "(x,y), _ = scipy.stats.probplot(sr)"
   ]
  },
  {
   "cell_type": "code",
   "execution_count": 72,
   "metadata": {},
   "outputs": [
    {
     "data": {
      "text/plain": [
       "[<matplotlib.lines.Line2D at 0x282156ea7b8>]"
      ]
     },
     "execution_count": 72,
     "metadata": {},
     "output_type": "execute_result"
    },
    {
     "data": {
      "image/png": "[encoded data removed]",
      "text/plain": [
       "<Figure size 432x288 with 1 Axes>"
      ]
     },
     "metadata": {
      "needs_background": "light"
     },
     "output_type": "display_data"
    }
   ],
   "source": [
    "sns.scatterplot(x,y)\n",
    "plt.plot([-3,3],[-3,3],'--',color='grey')"
   ]
  },
  {
   "cell_type": "code",
   "execution_count": 73,
   "metadata": {},
   "outputs": [
    {
     "data": {
      "text/plain": [
       "(0.9450905919075012, 0.02152460627257824)"
      ]
     },
     "execution_count": 73,
     "metadata": {},
     "output_type": "execute_result"
    }
   ],
   "source": [
    "scipy.stats.shapiro(residual)"
   ]
  },
  {
   "cell_type": "code",
   "execution_count": 75,
   "metadata": {},
   "outputs": [
    {
     "data": {
      "text/plain": [
       "<matplotlib.axes._subplots.AxesSubplot at 0x282166e8a20>"
      ]
     },
     "execution_count": 75,
     "metadata": {},
     "output_type": "execute_result"
    },
    {
     "data": {
      "image/png": "[encoded data removed]",
      "text/plain": [
       "<Figure size 432x288 with 1 Axes>"
      ]
     },
     "metadata": {
      "needs_background": "light"
     },
     "output_type": "display_data"
    }
   ],
   "source": [
    "#등분산성\n",
    "# 회귀모형을 통해 예측된 값이 크던 작던, 모든 값들에 대하여\n",
    "# 잔차의 분산이 동일하다는 가정\n",
    "\n",
    "import numpy as np\n",
    "\n",
    "sns.regplot(fitted,np.sqrt(np.abs(sr)),\n",
    "           lowess=True , line_kws={'color':'red'})\n",
    "\n",
    "#그래프선이 수평이되면 좋은 것 , 자료가 유의미하다 . \n",
    "# 등분산성을 따름 "
   ]
  },
  {
   "cell_type": "code",
   "execution_count": 79,
   "metadata": {},
   "outputs": [],
   "source": [
    "from statsmodels.stats.outliers_influence import OLSInfluence"
   ]
  },
  {
   "cell_type": "code",
   "execution_count": 83,
   "metadata": {},
   "outputs": [],
   "source": [
    "cd, _ = OLSInfluence(res).cooks_distance"
   ]
  },
  {
   "cell_type": "code",
   "execution_count": 84,
   "metadata": {},
   "outputs": [
    {
     "data": {
      "text/plain": [
       "array([4.59231211e-03, 4.35139907e-02, 6.20235028e-03, 2.54673384e-02,\n",
       "       6.44670495e-04, 7.13199310e-03, 1.33165620e-03, 1.71905900e-03,\n",
       "       1.42599273e-02, 5.82341689e-03, 4.17202400e-04, 1.55179097e-02,\n",
       "       5.88122230e-03, 2.00416887e-03, 1.65039285e-04, 3.05671658e-03,\n",
       "       1.12608835e-05, 1.12608835e-05, 8.33946678e-03, 6.22888273e-03,\n",
       "       1.02872132e-04, 2.40036286e-02, 8.55518081e-02, 2.02956882e-02,\n",
       "       1.05130543e-02, 7.02338658e-03, 7.94028124e-03, 1.27219189e-03,\n",
       "       1.44140306e-02, 4.15375325e-03, 2.56179541e-05, 6.95947991e-03,\n",
       "       4.33314191e-04, 2.88082912e-02, 5.25764700e-02, 2.95363925e-02,\n",
       "       8.19964547e-03, 7.80207419e-03, 6.80530514e-02, 1.37554585e-02,\n",
       "       6.62386563e-03, 2.06939483e-03, 6.91819601e-04, 1.04823767e-03,\n",
       "       5.31756208e-02, 8.43033348e-03, 4.21455402e-02, 4.78729231e-02,\n",
       "       3.40395934e-01, 4.03541768e-03])"
      ]
     },
     "execution_count": 84,
     "metadata": {},
     "output_type": "execute_result"
    }
   ],
   "source": [
    "cd"
   ]
  },
  {
   "cell_type": "code",
   "execution_count": null,
   "metadata": {},
   "outputs": [],
   "source": [
    "#잔차의 독립성 , 정규성 , 등분산성 \n",
    "# 극단값을 제거\n",
    "\n"
   ]
  },
  {
   "cell_type": "code",
   "execution_count": 89,
   "metadata": {},
   "outputs": [
    {
     "data": {
      "text/plain": [
       "([8, 3, 6, 6, 9, 4, 3, 9, 3, 4], [6, 2, 4, 6, 10, 5, 1, 8, 4, 5])"
      ]
     },
     "execution_count": 89,
     "metadata": {},
     "output_type": "execute_result"
    }
   ],
   "source": [
    "#공분산\n",
    "\n",
    "x = [8,3,6,6,9,4,3,9,3,4]\n",
    "y = [6,2,4,6,10,5,1,8,4,5]\n",
    "x,y"
   ]
  },
  {
   "cell_type": "code",
   "execution_count": null,
   "metadata": {},
   "outputs": [],
   "source": []
  },
  {
   "cell_type": "code",
   "execution_count": 90,
   "metadata": {},
   "outputs": [
    {
     "data": {
      "text/plain": [
       "[<matplotlib.lines.Line2D at 0x282167d9b00>]"
      ]
     },
     "execution_count": 90,
     "metadata": {},
     "output_type": "execute_result"
    },
    {
     "data": {
      "image/png": "[encoded data removed]",
      "text/plain": [
       "<Figure size 432x288 with 1 Axes>"
      ]
     },
     "metadata": {
      "needs_background": "light"
     },
     "output_type": "display_data"
    }
   ],
   "source": [
    "\n",
    "import matplotlib.pyplot as plt \n",
    "plt.plot(x,y,'o')"
   ]
  },
  {
   "cell_type": "code",
   "execution_count": 92,
   "metadata": {},
   "outputs": [
    {
     "data": {
      "text/plain": [
       "5.61111111111111"
      ]
     },
     "execution_count": 92,
     "metadata": {},
     "output_type": "execute_result"
    }
   ],
   "source": [
    "np.cov(x,y)[0,1]"
   ]
  },
  {
   "cell_type": "code",
   "execution_count": 93,
   "metadata": {},
   "outputs": [],
   "source": [
    "# 상관계수 : 두 변수가 함께 변하는 정도를 -1,1 범위의 수로 나타낸것"
   ]
  },
  {
   "cell_type": "code",
   "execution_count": 94,
   "metadata": {},
   "outputs": [],
   "source": [
    "# 피어슨 상관계수 karl pearson  \n",
    "# 적률상관계수 (product-moment correlation coefficient)\n",
    "#상관계수 : 피어슨 상관계수"
   ]
  },
  {
   "cell_type": "code",
   "execution_count": 95,
   "metadata": {},
   "outputs": [],
   "source": [
    "#np.corrcoef()"
   ]
  },
  {
   "cell_type": "code",
   "execution_count": 97,
   "metadata": {},
   "outputs": [
    {
     "data": {
      "text/plain": [
       "array([[1.        , 0.86251728],\n",
       "       [0.86251728, 1.        ]])"
      ]
     },
     "execution_count": 97,
     "metadata": {},
     "output_type": "execute_result"
    }
   ],
   "source": [
    "np.corrcoef(x,y)"
   ]
  },
  {
   "cell_type": "code",
   "execution_count": 98,
   "metadata": {},
   "outputs": [
    {
     "data": {
      "text/plain": [
       "0.8625172792135779"
      ]
     },
     "execution_count": 98,
     "metadata": {},
     "output_type": "execute_result"
    }
   ],
   "source": [
    "np.corrcoef(x,y)[0,1]"
   ]
  },
  {
   "cell_type": "code",
   "execution_count": 102,
   "metadata": {},
   "outputs": [
    {
     "data": {
      "text/plain": [
       "(0.8625172792135779, 0.0013196539142000057)"
      ]
     },
     "execution_count": 102,
     "metadata": {},
     "output_type": "execute_result"
    }
   ],
   "source": [
    "#상관분석 \n",
    "import scipy.stats\n",
    "scipy.stats.pearsonr(x,y)"
   ]
  },
  {
   "cell_type": "code",
   "execution_count": null,
   "metadata": {},
   "outputs": [],
   "source": [
    "# 상관계수 : 0.8625172792135779,  p: 0.0013196539142000057"
   ]
  },
  {
   "cell_type": "code",
   "execution_count": null,
   "metadata": {},
   "outputs": [],
   "source": [
    "# P값 모집단에서 상관계수가 0 일때 , 현재와 같은 크기의 표본에서 관찰된 상관계수(0.86)\n",
    "# 더 극단적인 상관계수가 관찰될 확률\n",
    "\n"
   ]
  },
  {
   "cell_type": "code",
   "execution_count": null,
   "metadata": {},
   "outputs": [],
   "source": []
  },
  {
   "cell_type": "code",
   "execution_count": null,
   "metadata": {},
   "outputs": [],
   "source": []
  },
  {
   "cell_type": "code",
   "execution_count": null,
   "metadata": {},
   "outputs": [],
   "source": []
  },
  {
   "cell_type": "code",
   "execution_count": null,
   "metadata": {},
   "outputs": [],
   "source": []
  },
  {
   "cell_type": "code",
   "execution_count": null,
   "metadata": {},
   "outputs": [],
   "source": []
  },
  {
   "cell_type": "code",
   "execution_count": null,
   "metadata": {},
   "outputs": [],
   "source": []
  },
  {
   "cell_type": "code",
   "execution_count": null,
   "metadata": {},
   "outputs": [],
   "source": []
  },
  {
   "cell_type": "code",
   "execution_count": null,
   "metadata": {},
   "outputs": [],
   "source": []
  },
  {
   "cell_type": "code",
   "execution_count": null,
   "metadata": {},
   "outputs": [],
   "source": []
  },
  {
   "cell_type": "code",
   "execution_count": null,
   "metadata": {},
   "outputs": [],
   "source": []
  }
 ],
 "metadata": {
  "kernelspec": {
   "display_name": "Python 3",
   "language": "python",
   "name": "python3"
  },
  "language_info": {
   "codemirror_mode": {
    "name": "ipython",
    "version": 3
   },
   "file_extension": ".py",
   "mimetype": "text/x-python",
   "name": "python",
   "nbconvert_exporter": "python",
   "pygments_lexer": "ipython3",
   "version": "3.5.6"
  }
 },
 "nbformat": 4,
 "nbformat_minor": 4
}
