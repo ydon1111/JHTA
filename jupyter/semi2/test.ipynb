{
 "metadata": {
  "language_info": {
   "codemirror_mode": {
    "name": "ipython",
    "version": 3
   },
   "file_extension": ".py",
   "mimetype": "text/x-python",
   "name": "python",
   "nbconvert_exporter": "python",
   "pygments_lexer": "ipython3",
   "version": "3.8.3-final"
  },
  "orig_nbformat": 2,
  "kernelspec": {
   "name": "python3",
   "display_name": "Python 3"
  }
 },
 "nbformat": 4,
 "nbformat_minor": 2,
 "cells": [
  {
   "cell_type": "code",
   "execution_count": 3,
   "metadata": {},
   "outputs": [
    {
     "output_type": "stream",
     "name": "stdout",
     "text": [
      "<class 'requests.models.Response'>\n"
     ]
    }
   ],
   "source": [
    "import pandas as pd\n",
    "from bs4 import BeautifulSoup\n",
    "import requests\n",
    "import time\n",
    "\n",
    "key = '675558684b6b796439347964784344' ### 여기에 신청한 본인의 key를 넣어야 합니다!\n",
    "\n",
    "startpage = '1'\n",
    "endpage = '5'\n",
    "url = 'http://openapi.seoul.go.kr:8088/'+key+'/xml/culturalSpaceInfo/'+startpage+'/'+endpage+'/'\n",
    "# print(url)\n",
    "req = requests.get(url) \n",
    "print(type(req))\n",
    "\n",
    "\n",
    "# html = req.text \n",
    "# print(type(html)) #이제 string객체로 바꼈다.\n",
    "# print(html[:150]) #이렇게 내용물을 확인할 수 있다.\n",
    "\n",
    "# soup = BeautifulSoup(html, 'html')\n",
    "\n",
    "\n",
    "# finded_values=soup.find_all('stnm')\n",
    "\n",
    "# [x.text for x in finded_values][:5] # .text를 통해 안의 내용물만을 불러옵니다"
   ]
  },
  {
   "cell_type": "code",
   "execution_count": null,
   "metadata": {},
   "outputs": [],
   "source": []
  }
 ]
}